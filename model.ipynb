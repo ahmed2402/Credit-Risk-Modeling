{
 "cells": [
  {
   "cell_type": "markdown",
   "id": "3a60368c",
   "metadata": {},
   "source": [
    "# Model Training and Evaluation"
   ]
  },
  {
   "cell_type": "code",
   "execution_count": 3,
   "id": "e521f808",
   "metadata": {},
   "outputs": [
    {
     "name": "stderr",
     "output_type": "stream",
     "text": [
      "c:\\Users\\Zainab\\anaconda3\\Lib\\site-packages\\sklearn\\utils\\validation.py:1300: DataConversionWarning: A column-vector y was passed when a 1d array was expected. Please change the shape of y to (n_samples, ), for example using ravel().\n",
      "  y = column_or_1d(y, warn=True)\n"
     ]
    },
    {
     "name": "stdout",
     "output_type": "stream",
     "text": [
      "Logistic Regression Accuracy: 0.8932222222222223\n",
      "Logistic Regression Recall: 0.744776119402985\n",
      "Logistic Regression Precision: 0.7696658097686375\n",
      "Logistic Regression F1 Score: 0.7570164348925411\n",
      "Logistic Regression Confusion Matrix: [[6542  448]\n",
      " [ 513 1497]]\n",
      "--------------------------------\n",
      "Logistic Regression Classification Report:               precision    recall  f1-score   support\n",
      "\n",
      "           0       0.93      0.94      0.93      6990\n",
      "           1       0.77      0.74      0.76      2010\n",
      "\n",
      "    accuracy                           0.89      9000\n",
      "   macro avg       0.85      0.84      0.84      9000\n",
      "weighted avg       0.89      0.89      0.89      9000\n",
      "\n"
     ]
    },
    {
     "name": "stderr",
     "output_type": "stream",
     "text": [
      "c:\\Users\\Zainab\\anaconda3\\Lib\\site-packages\\sklearn\\linear_model\\_logistic.py:469: ConvergenceWarning: lbfgs failed to converge (status=1):\n",
      "STOP: TOTAL NO. of ITERATIONS REACHED LIMIT.\n",
      "\n",
      "Increase the number of iterations (max_iter) or scale the data as shown in:\n",
      "    https://scikit-learn.org/stable/modules/preprocessing.html\n",
      "Please also refer to the documentation for alternative solver options:\n",
      "    https://scikit-learn.org/stable/modules/linear_model.html#logistic-regression\n",
      "  n_iter_i = _check_optimize_result(\n"
     ]
    }
   ],
   "source": [
    "from sklearn.linear_model import LogisticRegression\n",
    "from sklearn.metrics import accuracy_score, classification_report, confusion_matrix, recall_score, precision_score, f1_score\n",
    "from sklearn.model_selection import train_test_split\n",
    "import pandas as pd\n",
    "\n",
    "# Load the data\n",
    "X = pd.read_csv('datasets/X.csv')\n",
    "y = pd.read_csv('datasets/y.csv')\n",
    "\n",
    "# Split the data into training and testing sets\n",
    "X_train, X_test, y_train, y_test = train_test_split(X, y, test_size=0.2, random_state=42)\n",
    "\n",
    "lr = LogisticRegression()\n",
    "lr.fit(X_train, y_train)\n",
    "\n",
    "lr_pred = lr.predict(X_test)\n",
    "lr_acc = accuracy_score(y_test, lr_pred)\n",
    "lr_recall = recall_score(y_test, lr_pred)\n",
    "lr_precision = precision_score(y_test, lr_pred)\n",
    "lr_f1 = f1_score(y_test, lr_pred)\n",
    "lr_cm = confusion_matrix(y_test, lr_pred)\n",
    "\n",
    "print(f\"Logistic Regression Accuracy: {lr_acc}\")\n",
    "print(f\"Logistic Regression Recall: {lr_recall}\")\n",
    "print(f\"Logistic Regression Precision: {lr_precision}\")\n",
    "print(f\"Logistic Regression F1 Score: {lr_f1}\")\n",
    "print(f\"Logistic Regression Confusion Matrix: {lr_cm}\")\n",
    "print(\"--------------------------------\")\n",
    "print(f\"Logistic Regression Classification Report: {classification_report(y_test, lr_pred)}\")"
   ]
  }
 ],
 "metadata": {
  "kernelspec": {
   "display_name": "base",
   "language": "python",
   "name": "python3"
  },
  "language_info": {
   "codemirror_mode": {
    "name": "ipython",
    "version": 3
   },
   "file_extension": ".py",
   "mimetype": "text/x-python",
   "name": "python",
   "nbconvert_exporter": "python",
   "pygments_lexer": "ipython3",
   "version": "3.12.7"
  }
 },
 "nbformat": 4,
 "nbformat_minor": 5
}
